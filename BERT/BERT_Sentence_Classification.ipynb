{
 "cells": [
  {
   "cell_type": "code",
   "execution_count": 1,
   "id": "21075df4",
   "metadata": {
    "scrolled": false
   },
   "outputs": [
    {
     "name": "stdout",
     "output_type": "stream",
     "text": [
      "Enabling notebook extension jupyter-js-widgets/extension...\r\n",
      "      - Validating: \u001b[32mOK\u001b[0m\r\n"
     ]
    }
   ],
   "source": [
    "!jupyter nbextension enable --py widgetsnbextension"
   ]
  },
  {
   "cell_type": "code",
   "execution_count": 2,
   "id": "890303b1",
   "metadata": {},
   "outputs": [],
   "source": [
    "import re\n",
    "import numpy as np\n",
    "import pandas as pd\n",
    "import os\n",
    "import requests\n",
    "from bs4 import BeautifulSoup\n",
    "import torch\n",
    "import time\n",
    "from tqdm.notebook import trange, tqdm\n",
    "\n",
    "from transformers import (\n",
    "    BertModel,\n",
    "    BertConfig,\n",
    "    BertTokenizer,\n",
    "    BertForPreTraining\n",
    ")\n",
    "\n",
    "from pyknp import Juman\n",
    "\n",
    "from gensim import models"
   ]
  },
  {
   "cell_type": "code",
   "execution_count": 3,
   "id": "8e27229f",
   "metadata": {},
   "outputs": [
    {
     "name": "stderr",
     "output_type": "stream",
     "text": [
      "Matplotlib is building the font cache; this may take a moment.\n"
     ]
    }
   ],
   "source": [
    "import matplotlib.font_manager as fm\n",
    "fonts = fm.findSystemFonts()"
   ]
  },
  {
   "cell_type": "code",
   "execution_count": 4,
   "id": "3b56f578",
   "metadata": {},
   "outputs": [
    {
     "name": "stdout",
     "output_type": "stream",
     "text": [
      "[['/usr/share/texmf/fonts/opentype/public/lm/lmmonoproplt10-regular.otf', 'Latin Modern Mono Prop Light'], ['/usr/share/texmf/fonts/opentype/public/lm/lmmono9-regular.otf', 'Latin Modern Mono'], ['/usr/share/texmf/fonts/opentype/public/lm/lmsans9-regular.otf', 'Latin Modern Sans'], ['/usr/share/texmf/fonts/opentype/public/lm/lmromanunsl10-regular.otf', 'Latin Modern Roman Unslanted'], ['/usr/share/fonts/NotoSansCJKjp/NotoSansCJKjp-Medium.otf', 'Noto Sans CJK JP'], ['/usr/share/texmf/fonts/opentype/public/lm/lmroman6-regular.otf', 'Latin Modern Roman'], ['/usr/share/fonts/truetype/liberation/LiberationSerif-Italic.ttf', 'Liberation Serif'], ['/usr/share/fonts/truetype/liberation/LiberationSans-Regular.ttf', 'Liberation Sans'], ['/usr/share/texmf/fonts/opentype/public/lm/lmroman10-italic.otf', 'Latin Modern Roman'], ['/usr/share/texmf/fonts/opentype/public/lm/lmromanslant12-regular.otf', 'Latin Modern Roman Slanted']]\n"
     ]
    }
   ],
   "source": [
    "print([[str(font), fm.FontProperties(fname=font).get_name()] for font in fonts[:10]])"
   ]
  },
  {
   "cell_type": "code",
   "execution_count": 5,
   "id": "b7ec7dca",
   "metadata": {},
   "outputs": [],
   "source": [
    "from sklearn.decomposition import PCA\n",
    "from matplotlib import pyplot as plt\n",
    "from  matplotlib import rcParams\n",
    "rcParams['font.family'] = 'Noto Sans CJK JP'"
   ]
  },
  {
   "cell_type": "code",
   "execution_count": 6,
   "id": "52a9de78",
   "metadata": {},
   "outputs": [],
   "source": [
    "BERT_ROOT = \"/home/jovyan/work/BERT/models/bert/Japanese_L-12_H-768_A-12_E-30_BPE_WWM_transformers\""
   ]
  },
  {
   "cell_type": "code",
   "execution_count": 7,
   "id": "e449107b",
   "metadata": {},
   "outputs": [],
   "source": [
    "jm = Juman(timeout=15)"
   ]
  },
  {
   "cell_type": "code",
   "execution_count": 8,
   "id": "9da0487d",
   "metadata": {},
   "outputs": [
    {
     "name": "stderr",
     "output_type": "stream",
     "text": [
      "Some weights of the model checkpoint at /home/jovyan/work/BERT/models/bert/Japanese_L-12_H-768_A-12_E-30_BPE_WWM_transformers were not used when initializing BertModel: ['cls.predictions.transform.dense.bias', 'cls.seq_relationship.bias', 'cls.predictions.decoder.weight', 'cls.predictions.transform.LayerNorm.bias', 'cls.seq_relationship.weight', 'cls.predictions.transform.dense.weight', 'cls.predictions.bias', 'cls.predictions.transform.LayerNorm.weight']\n",
      "- This IS expected if you are initializing BertModel from the checkpoint of a model trained on another task or with another architecture (e.g. initializing a BertForSequenceClassification model from a BertForPreTraining model).\n",
      "- This IS NOT expected if you are initializing BertModel from the checkpoint of a model that you expect to be exactly identical (initializing a BertForSequenceClassification model from a BertForSequenceClassification model).\n"
     ]
    },
    {
     "data": {
      "text/plain": [
       "BertModel(\n",
       "  (embeddings): BertEmbeddings(\n",
       "    (word_embeddings): Embedding(32006, 768, padding_idx=0)\n",
       "    (position_embeddings): Embedding(512, 768)\n",
       "    (token_type_embeddings): Embedding(2, 768)\n",
       "    (LayerNorm): LayerNorm((768,), eps=1e-12, elementwise_affine=True)\n",
       "    (dropout): Dropout(p=0.1, inplace=False)\n",
       "  )\n",
       "  (encoder): BertEncoder(\n",
       "    (layer): ModuleList(\n",
       "      (0): BertLayer(\n",
       "        (attention): BertAttention(\n",
       "          (self): BertSelfAttention(\n",
       "            (query): Linear(in_features=768, out_features=768, bias=True)\n",
       "            (key): Linear(in_features=768, out_features=768, bias=True)\n",
       "            (value): Linear(in_features=768, out_features=768, bias=True)\n",
       "            (dropout): Dropout(p=0.1, inplace=False)\n",
       "          )\n",
       "          (output): BertSelfOutput(\n",
       "            (dense): Linear(in_features=768, out_features=768, bias=True)\n",
       "            (LayerNorm): LayerNorm((768,), eps=1e-12, elementwise_affine=True)\n",
       "            (dropout): Dropout(p=0.1, inplace=False)\n",
       "          )\n",
       "        )\n",
       "        (intermediate): BertIntermediate(\n",
       "          (dense): Linear(in_features=768, out_features=3072, bias=True)\n",
       "        )\n",
       "        (output): BertOutput(\n",
       "          (dense): Linear(in_features=3072, out_features=768, bias=True)\n",
       "          (LayerNorm): LayerNorm((768,), eps=1e-12, elementwise_affine=True)\n",
       "          (dropout): Dropout(p=0.1, inplace=False)\n",
       "        )\n",
       "      )\n",
       "      (1): BertLayer(\n",
       "        (attention): BertAttention(\n",
       "          (self): BertSelfAttention(\n",
       "            (query): Linear(in_features=768, out_features=768, bias=True)\n",
       "            (key): Linear(in_features=768, out_features=768, bias=True)\n",
       "            (value): Linear(in_features=768, out_features=768, bias=True)\n",
       "            (dropout): Dropout(p=0.1, inplace=False)\n",
       "          )\n",
       "          (output): BertSelfOutput(\n",
       "            (dense): Linear(in_features=768, out_features=768, bias=True)\n",
       "            (LayerNorm): LayerNorm((768,), eps=1e-12, elementwise_affine=True)\n",
       "            (dropout): Dropout(p=0.1, inplace=False)\n",
       "          )\n",
       "        )\n",
       "        (intermediate): BertIntermediate(\n",
       "          (dense): Linear(in_features=768, out_features=3072, bias=True)\n",
       "        )\n",
       "        (output): BertOutput(\n",
       "          (dense): Linear(in_features=3072, out_features=768, bias=True)\n",
       "          (LayerNorm): LayerNorm((768,), eps=1e-12, elementwise_affine=True)\n",
       "          (dropout): Dropout(p=0.1, inplace=False)\n",
       "        )\n",
       "      )\n",
       "      (2): BertLayer(\n",
       "        (attention): BertAttention(\n",
       "          (self): BertSelfAttention(\n",
       "            (query): Linear(in_features=768, out_features=768, bias=True)\n",
       "            (key): Linear(in_features=768, out_features=768, bias=True)\n",
       "            (value): Linear(in_features=768, out_features=768, bias=True)\n",
       "            (dropout): Dropout(p=0.1, inplace=False)\n",
       "          )\n",
       "          (output): BertSelfOutput(\n",
       "            (dense): Linear(in_features=768, out_features=768, bias=True)\n",
       "            (LayerNorm): LayerNorm((768,), eps=1e-12, elementwise_affine=True)\n",
       "            (dropout): Dropout(p=0.1, inplace=False)\n",
       "          )\n",
       "        )\n",
       "        (intermediate): BertIntermediate(\n",
       "          (dense): Linear(in_features=768, out_features=3072, bias=True)\n",
       "        )\n",
       "        (output): BertOutput(\n",
       "          (dense): Linear(in_features=3072, out_features=768, bias=True)\n",
       "          (LayerNorm): LayerNorm((768,), eps=1e-12, elementwise_affine=True)\n",
       "          (dropout): Dropout(p=0.1, inplace=False)\n",
       "        )\n",
       "      )\n",
       "      (3): BertLayer(\n",
       "        (attention): BertAttention(\n",
       "          (self): BertSelfAttention(\n",
       "            (query): Linear(in_features=768, out_features=768, bias=True)\n",
       "            (key): Linear(in_features=768, out_features=768, bias=True)\n",
       "            (value): Linear(in_features=768, out_features=768, bias=True)\n",
       "            (dropout): Dropout(p=0.1, inplace=False)\n",
       "          )\n",
       "          (output): BertSelfOutput(\n",
       "            (dense): Linear(in_features=768, out_features=768, bias=True)\n",
       "            (LayerNorm): LayerNorm((768,), eps=1e-12, elementwise_affine=True)\n",
       "            (dropout): Dropout(p=0.1, inplace=False)\n",
       "          )\n",
       "        )\n",
       "        (intermediate): BertIntermediate(\n",
       "          (dense): Linear(in_features=768, out_features=3072, bias=True)\n",
       "        )\n",
       "        (output): BertOutput(\n",
       "          (dense): Linear(in_features=3072, out_features=768, bias=True)\n",
       "          (LayerNorm): LayerNorm((768,), eps=1e-12, elementwise_affine=True)\n",
       "          (dropout): Dropout(p=0.1, inplace=False)\n",
       "        )\n",
       "      )\n",
       "      (4): BertLayer(\n",
       "        (attention): BertAttention(\n",
       "          (self): BertSelfAttention(\n",
       "            (query): Linear(in_features=768, out_features=768, bias=True)\n",
       "            (key): Linear(in_features=768, out_features=768, bias=True)\n",
       "            (value): Linear(in_features=768, out_features=768, bias=True)\n",
       "            (dropout): Dropout(p=0.1, inplace=False)\n",
       "          )\n",
       "          (output): BertSelfOutput(\n",
       "            (dense): Linear(in_features=768, out_features=768, bias=True)\n",
       "            (LayerNorm): LayerNorm((768,), eps=1e-12, elementwise_affine=True)\n",
       "            (dropout): Dropout(p=0.1, inplace=False)\n",
       "          )\n",
       "        )\n",
       "        (intermediate): BertIntermediate(\n",
       "          (dense): Linear(in_features=768, out_features=3072, bias=True)\n",
       "        )\n",
       "        (output): BertOutput(\n",
       "          (dense): Linear(in_features=3072, out_features=768, bias=True)\n",
       "          (LayerNorm): LayerNorm((768,), eps=1e-12, elementwise_affine=True)\n",
       "          (dropout): Dropout(p=0.1, inplace=False)\n",
       "        )\n",
       "      )\n",
       "      (5): BertLayer(\n",
       "        (attention): BertAttention(\n",
       "          (self): BertSelfAttention(\n",
       "            (query): Linear(in_features=768, out_features=768, bias=True)\n",
       "            (key): Linear(in_features=768, out_features=768, bias=True)\n",
       "            (value): Linear(in_features=768, out_features=768, bias=True)\n",
       "            (dropout): Dropout(p=0.1, inplace=False)\n",
       "          )\n",
       "          (output): BertSelfOutput(\n",
       "            (dense): Linear(in_features=768, out_features=768, bias=True)\n",
       "            (LayerNorm): LayerNorm((768,), eps=1e-12, elementwise_affine=True)\n",
       "            (dropout): Dropout(p=0.1, inplace=False)\n",
       "          )\n",
       "        )\n",
       "        (intermediate): BertIntermediate(\n",
       "          (dense): Linear(in_features=768, out_features=3072, bias=True)\n",
       "        )\n",
       "        (output): BertOutput(\n",
       "          (dense): Linear(in_features=3072, out_features=768, bias=True)\n",
       "          (LayerNorm): LayerNorm((768,), eps=1e-12, elementwise_affine=True)\n",
       "          (dropout): Dropout(p=0.1, inplace=False)\n",
       "        )\n",
       "      )\n",
       "      (6): BertLayer(\n",
       "        (attention): BertAttention(\n",
       "          (self): BertSelfAttention(\n",
       "            (query): Linear(in_features=768, out_features=768, bias=True)\n",
       "            (key): Linear(in_features=768, out_features=768, bias=True)\n",
       "            (value): Linear(in_features=768, out_features=768, bias=True)\n",
       "            (dropout): Dropout(p=0.1, inplace=False)\n",
       "          )\n",
       "          (output): BertSelfOutput(\n",
       "            (dense): Linear(in_features=768, out_features=768, bias=True)\n",
       "            (LayerNorm): LayerNorm((768,), eps=1e-12, elementwise_affine=True)\n",
       "            (dropout): Dropout(p=0.1, inplace=False)\n",
       "          )\n",
       "        )\n",
       "        (intermediate): BertIntermediate(\n",
       "          (dense): Linear(in_features=768, out_features=3072, bias=True)\n",
       "        )\n",
       "        (output): BertOutput(\n",
       "          (dense): Linear(in_features=3072, out_features=768, bias=True)\n",
       "          (LayerNorm): LayerNorm((768,), eps=1e-12, elementwise_affine=True)\n",
       "          (dropout): Dropout(p=0.1, inplace=False)\n",
       "        )\n",
       "      )\n",
       "      (7): BertLayer(\n",
       "        (attention): BertAttention(\n",
       "          (self): BertSelfAttention(\n",
       "            (query): Linear(in_features=768, out_features=768, bias=True)\n",
       "            (key): Linear(in_features=768, out_features=768, bias=True)\n",
       "            (value): Linear(in_features=768, out_features=768, bias=True)\n",
       "            (dropout): Dropout(p=0.1, inplace=False)\n",
       "          )\n",
       "          (output): BertSelfOutput(\n",
       "            (dense): Linear(in_features=768, out_features=768, bias=True)\n",
       "            (LayerNorm): LayerNorm((768,), eps=1e-12, elementwise_affine=True)\n",
       "            (dropout): Dropout(p=0.1, inplace=False)\n",
       "          )\n",
       "        )\n",
       "        (intermediate): BertIntermediate(\n",
       "          (dense): Linear(in_features=768, out_features=3072, bias=True)\n",
       "        )\n",
       "        (output): BertOutput(\n",
       "          (dense): Linear(in_features=3072, out_features=768, bias=True)\n",
       "          (LayerNorm): LayerNorm((768,), eps=1e-12, elementwise_affine=True)\n",
       "          (dropout): Dropout(p=0.1, inplace=False)\n",
       "        )\n",
       "      )\n",
       "      (8): BertLayer(\n",
       "        (attention): BertAttention(\n",
       "          (self): BertSelfAttention(\n",
       "            (query): Linear(in_features=768, out_features=768, bias=True)\n",
       "            (key): Linear(in_features=768, out_features=768, bias=True)\n",
       "            (value): Linear(in_features=768, out_features=768, bias=True)\n",
       "            (dropout): Dropout(p=0.1, inplace=False)\n",
       "          )\n",
       "          (output): BertSelfOutput(\n",
       "            (dense): Linear(in_features=768, out_features=768, bias=True)\n",
       "            (LayerNorm): LayerNorm((768,), eps=1e-12, elementwise_affine=True)\n",
       "            (dropout): Dropout(p=0.1, inplace=False)\n",
       "          )\n",
       "        )\n",
       "        (intermediate): BertIntermediate(\n",
       "          (dense): Linear(in_features=768, out_features=3072, bias=True)\n",
       "        )\n",
       "        (output): BertOutput(\n",
       "          (dense): Linear(in_features=3072, out_features=768, bias=True)\n",
       "          (LayerNorm): LayerNorm((768,), eps=1e-12, elementwise_affine=True)\n",
       "          (dropout): Dropout(p=0.1, inplace=False)\n",
       "        )\n",
       "      )\n",
       "      (9): BertLayer(\n",
       "        (attention): BertAttention(\n",
       "          (self): BertSelfAttention(\n",
       "            (query): Linear(in_features=768, out_features=768, bias=True)\n",
       "            (key): Linear(in_features=768, out_features=768, bias=True)\n",
       "            (value): Linear(in_features=768, out_features=768, bias=True)\n",
       "            (dropout): Dropout(p=0.1, inplace=False)\n",
       "          )\n",
       "          (output): BertSelfOutput(\n",
       "            (dense): Linear(in_features=768, out_features=768, bias=True)\n",
       "            (LayerNorm): LayerNorm((768,), eps=1e-12, elementwise_affine=True)\n",
       "            (dropout): Dropout(p=0.1, inplace=False)\n",
       "          )\n",
       "        )\n",
       "        (intermediate): BertIntermediate(\n",
       "          (dense): Linear(in_features=768, out_features=3072, bias=True)\n",
       "        )\n",
       "        (output): BertOutput(\n",
       "          (dense): Linear(in_features=3072, out_features=768, bias=True)\n",
       "          (LayerNorm): LayerNorm((768,), eps=1e-12, elementwise_affine=True)\n",
       "          (dropout): Dropout(p=0.1, inplace=False)\n",
       "        )\n",
       "      )\n",
       "      (10): BertLayer(\n",
       "        (attention): BertAttention(\n",
       "          (self): BertSelfAttention(\n",
       "            (query): Linear(in_features=768, out_features=768, bias=True)\n",
       "            (key): Linear(in_features=768, out_features=768, bias=True)\n",
       "            (value): Linear(in_features=768, out_features=768, bias=True)\n",
       "            (dropout): Dropout(p=0.1, inplace=False)\n",
       "          )\n",
       "          (output): BertSelfOutput(\n",
       "            (dense): Linear(in_features=768, out_features=768, bias=True)\n",
       "            (LayerNorm): LayerNorm((768,), eps=1e-12, elementwise_affine=True)\n",
       "            (dropout): Dropout(p=0.1, inplace=False)\n",
       "          )\n",
       "        )\n",
       "        (intermediate): BertIntermediate(\n",
       "          (dense): Linear(in_features=768, out_features=3072, bias=True)\n",
       "        )\n",
       "        (output): BertOutput(\n",
       "          (dense): Linear(in_features=3072, out_features=768, bias=True)\n",
       "          (LayerNorm): LayerNorm((768,), eps=1e-12, elementwise_affine=True)\n",
       "          (dropout): Dropout(p=0.1, inplace=False)\n",
       "        )\n",
       "      )\n",
       "      (11): BertLayer(\n",
       "        (attention): BertAttention(\n",
       "          (self): BertSelfAttention(\n",
       "            (query): Linear(in_features=768, out_features=768, bias=True)\n",
       "            (key): Linear(in_features=768, out_features=768, bias=True)\n",
       "            (value): Linear(in_features=768, out_features=768, bias=True)\n",
       "            (dropout): Dropout(p=0.1, inplace=False)\n",
       "          )\n",
       "          (output): BertSelfOutput(\n",
       "            (dense): Linear(in_features=768, out_features=768, bias=True)\n",
       "            (LayerNorm): LayerNorm((768,), eps=1e-12, elementwise_affine=True)\n",
       "            (dropout): Dropout(p=0.1, inplace=False)\n",
       "          )\n",
       "        )\n",
       "        (intermediate): BertIntermediate(\n",
       "          (dense): Linear(in_features=768, out_features=3072, bias=True)\n",
       "        )\n",
       "        (output): BertOutput(\n",
       "          (dense): Linear(in_features=3072, out_features=768, bias=True)\n",
       "          (LayerNorm): LayerNorm((768,), eps=1e-12, elementwise_affine=True)\n",
       "          (dropout): Dropout(p=0.1, inplace=False)\n",
       "        )\n",
       "      )\n",
       "    )\n",
       "  )\n",
       "  (pooler): BertPooler(\n",
       "    (dense): Linear(in_features=768, out_features=768, bias=True)\n",
       "    (activation): Tanh()\n",
       "  )\n",
       ")"
      ]
     },
     "execution_count": 8,
     "metadata": {},
     "output_type": "execute_result"
    }
   ],
   "source": [
    "model = BertModel.from_pretrained(BERT_ROOT)\n",
    "model.eval()"
   ]
  },
  {
   "cell_type": "code",
   "execution_count": 9,
   "id": "2d13fd4d",
   "metadata": {
    "scrolled": true
   },
   "outputs": [],
   "source": [
    "vocab_file_path = os.path.join(BERT_ROOT, 'vocab.txt')\n",
    "bert_tokenizer = BertTokenizer(vocab_file_path, do_lower_case=False, do_basic_tokenize=False)"
   ]
  },
  {
   "cell_type": "markdown",
   "id": "37466bb3",
   "metadata": {},
   "source": [
    "# BeautifulSoup Scraping"
   ]
  },
  {
   "cell_type": "code",
   "execution_count": 15,
   "id": "f3fe05e5",
   "metadata": {},
   "outputs": [],
   "source": [
    "url = [\n",
    "    \"https://dev.classmethod.jp/articles/pyknpjumann-tutorial/\",\n",
    "    \"https://ux-jump.com/uxdesign-skill\",\n",
    "    \"https://dev.classmethod.jp/articles/bert-text-embedding/\",\n",
    "    \"https://news.yahoo.co.jp/articles/83124b73f1383bf32357b797ce730aa6515a53f2\",\n",
    "    \"https://www.nikkansports.com/baseball/mlb/column/showtime/news/202112190000276.html\",\n",
    "    \"https://blog.kikagaku.co.jp/nlp-service\"\n",
    "]"
   ]
  },
  {
   "cell_type": "markdown",
   "id": "175317f0",
   "metadata": {},
   "source": [
    "## Pattern1 : 冒頭 512文字での特徴抽出"
   ]
  },
  {
   "cell_type": "markdown",
   "id": "93d5d7bf",
   "metadata": {},
   "source": [
    " https://www.reddit.com/r/MLQuestions/comments/nb4zdg/using_bert_on_long_documents_510_words_for_text/  \n",
    " 結構色々なところで，冒頭 (or 終端) 512単語を抽出すると良いというコメントを参考"
   ]
  },
  {
   "cell_type": "code",
   "execution_count": 24,
   "id": "7246e103",
   "metadata": {},
   "outputs": [],
   "source": [
    "def get_vector_top512(url):\n",
    "    response = requests.get(url)\n",
    "    soup = BeautifulSoup(response.text, 'html.parser')\n",
    "    _text = soup.get_text()\n",
    "    \n",
    "    _lines = [line.strip() for line in _text.splitlines()]\n",
    "    _texts_p = [ t.replace('\\n', '') for t in _lines if re.match('\\S', t) ]\n",
    "    _texts_p = [ t.replace('\\u3300', '') for t in _texts_p ]\n",
    "    _texts_p = [ t.replace('\\u3000', '') for t in _texts_p ]\n",
    "    _texts_p = [ t.replace('\\uf002', '') for t in _texts_p ]\n",
    "    \n",
    "    sentence_result = []\n",
    "    for i in tqdm(_texts_p, desc='Juman mrph analysis'):\n",
    "        try:\n",
    "            result = jm.analysis(i)\n",
    "        except:\n",
    "            continue\n",
    "        tokens = [mrph.midasi for mrph in result.mrph_list()]\n",
    "        sentence_result.append(tokens)\n",
    "        \n",
    "    sentence = \"[CLS] \"\n",
    "    for sent in sentence_result:\n",
    "        _token = \" \".join(sent + [\"[SEP]\"])\n",
    "        sentence = sentence + _token\n",
    "        \n",
    "    bert_tokens = bert_tokenizer.tokenize(sentence)\n",
    "    token_ids = bert_tokenizer.convert_tokens_to_ids(bert_tokens)\n",
    "    \n",
    "    tokens_tensor = torch.tensor(token_ids[0:512]).unsqueeze(0)\n",
    "    with torch.no_grad():\n",
    "        outputs = model(tokens_tensor)\n",
    "    vector = outputs[0].max(0)[0].numpy()\n",
    "    result = np.mean(vector, axis=0)\n",
    "    \n",
    "    return {\n",
    "        \"url\": url,\n",
    "        \"title\": soup.find('title').text,\n",
    "        \"vector\": result\n",
    "    }"
   ]
  },
  {
   "cell_type": "code",
   "execution_count": 23,
   "id": "9ed2f624",
   "metadata": {},
   "outputs": [
    {
     "data": {
      "application/vnd.jupyter.widget-view+json": {
       "model_id": "876481a59b664171aea2fc259d6eb074",
       "version_major": 2,
       "version_minor": 0
      },
      "text/plain": [
       "Juman mrph analysis:   0%|          | 0/82 [00:00<?, ?it/s]"
      ]
     },
     "metadata": {},
     "output_type": "display_data"
    },
    {
     "data": {
      "application/vnd.jupyter.widget-view+json": {
       "model_id": "8383579930dc45f79cab0e32f2ad1891",
       "version_major": 2,
       "version_minor": 0
      },
      "text/plain": [
       "Juman mrph analysis:   0%|          | 0/120 [00:00<?, ?it/s]"
      ]
     },
     "metadata": {},
     "output_type": "display_data"
    },
    {
     "data": {
      "application/vnd.jupyter.widget-view+json": {
       "model_id": "d76f90457fc84ab29c2bde90c3bc488b",
       "version_major": 2,
       "version_minor": 0
      },
      "text/plain": [
       "Juman mrph analysis:   0%|          | 0/165 [00:00<?, ?it/s]"
      ]
     },
     "metadata": {},
     "output_type": "display_data"
    },
    {
     "data": {
      "application/vnd.jupyter.widget-view+json": {
       "model_id": "893c6934525f4463b01733a19b05a26b",
       "version_major": 2,
       "version_minor": 0
      },
      "text/plain": [
       "Juman mrph analysis:   0%|          | 0/15 [00:00<?, ?it/s]"
      ]
     },
     "metadata": {},
     "output_type": "display_data"
    },
    {
     "data": {
      "application/vnd.jupyter.widget-view+json": {
       "model_id": "128bdeafdb3a42e8923e893e0b99e73f",
       "version_major": 2,
       "version_minor": 0
      },
      "text/plain": [
       "Juman mrph analysis:   0%|          | 0/321 [00:00<?, ?it/s]"
      ]
     },
     "metadata": {},
     "output_type": "display_data"
    },
    {
     "name": "stderr",
     "output_type": "stream",
     "text": [
      "InvalidParameter: byte size of input string (4281) is greater than maximum allowed (4096)\n",
      "backtrace:\n",
      "    resetForInput at /jumanpp-2.0.0-rc2/src/core/analysis/analyzer_impl.cc:19\n",
      "    analyze at /jumanpp-2.0.0-rc2/src/core/analysis/analyzer.cc:46\n",
      "    analyzeWith at /jumanpp-2.0.0-rc2/src/core/input/stream_reader.h:38"
     ]
    },
    {
     "data": {
      "application/vnd.jupyter.widget-view+json": {
       "model_id": "ba2b493772f640a6b6c1cdeb9e6f36a0",
       "version_major": 2,
       "version_minor": 0
      },
      "text/plain": [
       "Juman mrph analysis:   0%|          | 0/112 [00:00<?, ?it/s]"
      ]
     },
     "metadata": {},
     "output_type": "display_data"
    }
   ],
   "source": [
    "vectors = []\n",
    "for _url in url:\n",
    "    _result = get_vector_top512(_url)\n",
    "    vectors.append(_result)"
   ]
  },
  {
   "cell_type": "code",
   "execution_count": 18,
   "id": "c653e987",
   "metadata": {},
   "outputs": [],
   "source": [
    "vector_list = [x['vector'] for x in vectors]\n",
    "label_list = [x['title'] for x in vectors]\n",
    "X_reduced = PCA(n_components=2, random_state=0).fit_transform(vector_list)"
   ]
  },
  {
   "cell_type": "code",
   "execution_count": 19,
   "id": "0faeba31",
   "metadata": {},
   "outputs": [
    {
     "data": {
      "image/png": "[encoded data removed]",
      "text/plain": [
       "<Figure size 432x288 with 1 Axes>"
      ]
     },
     "metadata": {
      "needs_background": "light"
     },
     "output_type": "display_data"
    }
   ],
   "source": [
    "plt.scatter(X_reduced[:, 0], X_reduced[:, 1])\n",
    "plt.grid()\n",
    "for label, x, y in zip(label_list, X_reduced[:, 0], X_reduced[:, 1]):\n",
    "    plt.annotate(label, xy=(x, y))"
   ]
  },
  {
   "cell_type": "code",
   "execution_count": 17,
   "id": "cc3280dd",
   "metadata": {},
   "outputs": [
    {
     "data": {
      "application/vnd.jupyter.widget-view+json": {
       "model_id": "741d83a8a8c24c0fa01b758f21da4382",
       "version_major": 2,
       "version_minor": 0
      },
      "text/plain": [
       "  0%|          | 0/82 [00:00<?, ?it/s]"
      ]
     },
     "metadata": {},
     "output_type": "display_data"
    }
   ],
   "source": [
    "sentence_result = []\n",
    "for i in tqdm(_texts_p):\n",
    "    try:\n",
    "        result = jm.analysis(i)\n",
    "    except:\n",
    "        continue\n",
    "    tokens = [mrph.midasi for mrph in result.mrph_list()]\n",
    "    sentence_result.append(tokens)"
   ]
  },
  {
   "cell_type": "code",
   "execution_count": 18,
   "id": "9042f7f7",
   "metadata": {},
   "outputs": [],
   "source": [
    "sentence = \"[CLS] \"\n",
    "for sent in sentence_result:\n",
    "    _token = \" \".join(sent + [\"[SEP]\"])\n",
    "    sentence = sentence + _token"
   ]
  },
  {
   "cell_type": "code",
   "execution_count": 26,
   "id": "8ddb75f7",
   "metadata": {},
   "outputs": [],
   "source": [
    "bert_tokens = bert_tokenizer.tokenize(sentence)\n",
    "token_ids = bert_tokenizer.convert_tokens_to_ids(bert_tokens)"
   ]
  },
  {
   "cell_type": "code",
   "execution_count": 46,
   "id": "0818382c",
   "metadata": {},
   "outputs": [],
   "source": [
    "tokens_tensor = torch.tensor(token_ids[0:512]).unsqueeze(0)\n",
    "with torch.no_grad():\n",
    "    outputs = model(tokens_tensor)\n",
    "vector = outputs[0].max(0)[0].numpy()"
   ]
  },
  {
   "cell_type": "markdown",
   "id": "ea607abb",
   "metadata": {},
   "source": [
    "## Pattern2 : 各文章ごとに特徴生成する"
   ]
  },
  {
   "cell_type": "code",
   "execution_count": 19,
   "id": "61b95a4b",
   "metadata": {},
   "outputs": [
    {
     "data": {
      "application/vnd.jupyter.widget-view+json": {
       "model_id": "0fbcfea21ac34bc5920eb8470065a4c8",
       "version_major": 2,
       "version_minor": 0
      },
      "text/plain": [
       "  0%|          | 0/81 [00:00<?, ?it/s]"
      ]
     },
     "metadata": {},
     "output_type": "display_data"
    }
   ],
   "source": [
    "list_bert_tokens = []\n",
    "for tokens in tqdm(sentence_result):\n",
    "    bert_tokens = bert_tokenizer.tokenize(\" \".join([\"[CLS]\"] + tokens + [\"[SEP]\"]))\n",
    "    token_ids = bert_tokenizer.convert_tokens_to_ids(bert_tokens)\n",
    "    list_bert_tokens.append(token_ids) "
   ]
  },
  {
   "cell_type": "code",
   "execution_count": 20,
   "id": "bc458c39",
   "metadata": {},
   "outputs": [
    {
     "data": {
      "application/vnd.jupyter.widget-view+json": {
       "model_id": "eb15601a29954202a9a47157928cae70",
       "version_major": 2,
       "version_minor": 0
      },
      "text/plain": [
       "  0%|          | 0/81 [00:00<?, ?it/s]"
      ]
     },
     "metadata": {},
     "output_type": "display_data"
    }
   ],
   "source": [
    "result = []\n",
    "for tenso in tqdm(list_bert_tokens):\n",
    "    tokens_tensor = torch.tensor(tenso).unsqueeze(0)\n",
    "    with torch.no_grad():\n",
    "        outputs = model(tokens_tensor)\n",
    "    result.append(outputs)"
   ]
  },
  {
   "cell_type": "code",
   "execution_count": 21,
   "id": "94da2884",
   "metadata": {},
   "outputs": [
    {
     "data": {
      "text/plain": [
       "tensor([[ 0.3174, -0.5060, -0.8484,  ..., -0.3971,  0.4762, -0.6710],\n",
       "        [-1.2558, -0.2342, -0.7860,  ..., -1.3362, -0.1698,  0.4197],\n",
       "        [-1.0266, -0.0844, -0.4328,  ..., -1.4944, -0.0697,  0.6240],\n",
       "        ...,\n",
       "        [-1.5063, -0.0836, -0.6289,  ..., -1.5272, -0.4572,  0.8062],\n",
       "        [-0.3357,  0.3042, -0.6383,  ..., -1.5855, -0.0196,  0.7578],\n",
       "        [-0.2178,  0.0191, -0.2973,  ..., -0.2228,  0.0274,  0.0497]])"
      ]
     },
     "execution_count": 21,
     "metadata": {},
     "output_type": "execute_result"
    }
   ],
   "source": [
    "result[0]['last_hidden_state'].max(0)[0]"
   ]
  },
  {
   "cell_type": "code",
   "execution_count": null,
   "id": "38f50ba5",
   "metadata": {},
   "outputs": [],
   "source": []
  }
 ],
 "metadata": {
  "kernelspec": {
   "display_name": "Python 3 (ipykernel)",
   "language": "python",
   "name": "python3"
  },
  "language_info": {
   "codemirror_mode": {
    "name": "ipython",
    "version": 3
   },
   "file_extension": ".py",
   "mimetype": "text/x-python",
   "name": "python",
   "nbconvert_exporter": "python",
   "pygments_lexer": "ipython3",
   "version": "3.9.7"
  }
 },
 "nbformat": 4,
 "nbformat_minor": 5
}
